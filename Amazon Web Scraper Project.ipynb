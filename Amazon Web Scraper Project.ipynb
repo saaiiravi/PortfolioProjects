{
 "cells": [
  {
   "cell_type": "code",
   "execution_count": 45,
   "id": "f6a310e2",
   "metadata": {},
   "outputs": [],
   "source": [
    "#import libraries\n",
    "\n",
    "from bs4 import BeautifulSoup\n",
    "import requests\n",
    "import time\n",
    "import datetime\n",
    "\n",
    "import smtplib\n",
    "import random"
   ]
  },
  {
   "cell_type": "code",
   "execution_count": 67,
   "id": "e761e2b2",
   "metadata": {},
   "outputs": [],
   "source": [
    "# connect to website\n",
    "URL  = 'https://www.amazon.com/Funny-Data-Systems-Business-Analyst/dp/B07FNW9FGJ/ref=sr_1_3?dchild=1&keywords=data%2Banalyst%2Btshirt&qid=1626655184&sr=8-3&customId=B0752XJYNL&th=1'\n",
    "headers =   {\n",
    "    \"User-Agent\": \"Mozilla/5.0 (Macintosh; Intel Mac OS X 10_15_7) AppleWebKit/605.1.15 (KHTML, like Gecko) Version/16.2 Safari/605.1.15\"\n",
    "\n",
    "  }\n",
    " # get headers from http://httpbin.org/get\n",
    "page = requests.get(URL, headers=headers,cookies={'__hs_opt_out': 'no'})  \n"
   ]
  },
  {
   "cell_type": "code",
   "execution_count": 77,
   "id": "eb7356c1",
   "metadata": {},
   "outputs": [
    {
     "name": "stdout",
     "output_type": "stream",
     "text": [
      "Funny Got Data MIS Data Systems Business Analyst T-Shirt\n",
      "$16.99\n"
     ]
    }
   ],
   "source": [
    "soup1 = BeautifulSoup(page.content, \"html.parser\")\n",
    "soup2 = BeautifulSoup(soup1.prettify(), \"html.parser\")\n",
    "title = soup.find('span', {'id':\"productTitle\"}).text.strip()\n",
    "price = soup2.find('span', {'class':\"a-offscreen\"}).text.strip()\n",
    "\n",
    "#\n",
    "print(title)\n",
    "print(price)\n"
   ]
  },
  {
   "cell_type": "code",
   "execution_count": 78,
   "id": "8a95f0a8",
   "metadata": {},
   "outputs": [
    {
     "name": "stdout",
     "output_type": "stream",
     "text": [
      "16.99\n"
     ]
    }
   ],
   "source": [
    "price = price.replace('$','')\n",
    "print(price)"
   ]
  },
  {
   "cell_type": "code",
   "execution_count": 81,
   "id": "c5ff860c",
   "metadata": {},
   "outputs": [
    {
     "name": "stdout",
     "output_type": "stream",
     "text": [
      "2023-01-04\n"
     ]
    }
   ],
   "source": [
    "import datetime\n",
    "today = datetime.date. today()\n",
    "print(today)"
   ]
  },
  {
   "cell_type": "code",
   "execution_count": 82,
   "id": "dd833126",
   "metadata": {},
   "outputs": [],
   "source": [
    "import csv\n",
    "header = ['Title', 'Price', 'Date']\n",
    "data = [title, price, today]\n",
    "type(data) #list\n",
    "\n",
    "\n",
    "\n",
    "#with open('AmazonWebScraperDataset.csv', 'w', newline='', encoding = 'UTF8') as f:\n",
    "    #writer = csv.writer(f)\n",
    "   # writer.writerow(header)\n",
    "   # writer.writerow(data)\n",
    "    \n"
   ]
  },
  {
   "cell_type": "code",
   "execution_count": 86,
   "id": "a56d4679",
   "metadata": {},
   "outputs": [],
   "source": [
    "def check_price():\n",
    "    URL  = 'https://www.amazon.com/Funny-Data-Systems-Business-Analyst/dp/B07FNW9FGJ/ref=sr_1_3?dchild=1&keywords=data%2Banalyst%2Btshirt&qid=1626655184&sr=8-3&customId=B0752XJYNL&th=1'\n",
    "    headers =   {\n",
    "    \"User-Agent\": \"Mozilla/5.0 (Macintosh; Intel Mac OS X 10_15_7) AppleWebKit/605.1.15 (KHTML, like Gecko) Version/16.2 Safari/605.1.15\"}\n",
    "    page = requests.get(URL, headers=headers,cookies={'__hs_opt_out': 'no'})\n",
    "    soup = BeautifulSoup(page.content, \"html.parser\")\n",
    "    title = soup.find('span', {'id':\"productTitle\"}).text.strip()\n",
    "    price = soup2.find('span', {'class':\"a-offscreen\"}).text.strip()\n",
    "    price = price.replace('$','')\n",
    "    \n",
    "    import datetime\n",
    "    today = datetime.date. today()\n",
    "    \n",
    "    import csv\n",
    "    header = ['Title', 'Price', 'Date']\n",
    "    data = [title, price, today]\n",
    "    \n",
    "    with open('AmazonWebScraperDataset.csv', 'a+', newline='', encoding = 'UTF8') as f:\n",
    "        \n",
    "        writer = csv.writer(f)\n",
    "        writer.writerow(data)\n",
    "    "
   ]
  },
  {
   "cell_type": "code",
   "execution_count": 88,
   "id": "7ff065b8",
   "metadata": {},
   "outputs": [
    {
     "name": "stdout",
     "output_type": "stream",
     "text": [
      "                                               Title  Price        Date\n",
      "0  Funny Got Data MIS Data Systems Business Analy...  16.99  2023-01-04\n",
      "1  Funny Got Data MIS Data Systems Business Analy...  16.99  2023-01-04\n",
      "2  Funny Got Data MIS Data Systems Business Analy...  16.99  2023-01-04\n",
      "3  Funny Got Data MIS Data Systems Business Analy...  16.99  2023-01-04\n",
      "4  Funny Got Data MIS Data Systems Business Analy...  16.99  2023-01-04\n"
     ]
    }
   ],
   "source": [
    "import pandas as pd\n",
    "df = pd.read_csv('AmazonWebScraperDataset.csv')\n",
    "print(df)"
   ]
  },
  {
   "cell_type": "code",
   "execution_count": 87,
   "id": "93d72b4a",
   "metadata": {},
   "outputs": [
    {
     "ename": "KeyboardInterrupt",
     "evalue": "",
     "output_type": "error",
     "traceback": [
      "\u001b[0;31m---------------------------------------------------------------------------\u001b[0m",
      "\u001b[0;31mKeyboardInterrupt\u001b[0m                         Traceback (most recent call last)",
      "Cell \u001b[0;32mIn [87], line 3\u001b[0m\n\u001b[1;32m      1\u001b[0m \u001b[38;5;28;01mwhile\u001b[39;00m(\u001b[38;5;28;01mTrue\u001b[39;00m):\n\u001b[1;32m      2\u001b[0m     check_price()\n\u001b[0;32m----> 3\u001b[0m     \u001b[43mtime\u001b[49m\u001b[38;5;241;43m.\u001b[39;49m\u001b[43msleep\u001b[49m\u001b[43m(\u001b[49m\u001b[38;5;241;43m5\u001b[39;49m\u001b[43m)\u001b[49m\n",
      "\u001b[0;31mKeyboardInterrupt\u001b[0m: "
     ]
    }
   ],
   "source": [
    "while(True):\n",
    "    check_price()\n",
    "    time.sleep(86,400) #checking price every single day"
   ]
  }
 ],
 "metadata": {
  "kernelspec": {
   "display_name": "Python 3 (ipykernel)",
   "language": "python",
   "name": "python3"
  },
  "language_info": {
   "codemirror_mode": {
    "name": "ipython",
    "version": 3
   },
   "file_extension": ".py",
   "mimetype": "text/x-python",
   "name": "python",
   "nbconvert_exporter": "python",
   "pygments_lexer": "ipython3",
   "version": "3.10.8"
  }
 },
 "nbformat": 4,
 "nbformat_minor": 5
}
